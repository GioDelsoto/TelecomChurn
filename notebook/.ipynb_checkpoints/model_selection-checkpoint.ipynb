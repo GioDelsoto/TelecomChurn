{
 "cells": [
  {
   "cell_type": "markdown",
   "id": "a253f2b0-7bc4-462a-8802-dc12debffc8d",
   "metadata": {},
   "source": [
    "# Introduction\n",
    "\n",
    "- This notebook focuses on building a machine learning model to predict heart disease based on patient data.\n",
    "- We start by splitting the dataset into training and testing sets to evaluate model performance effectively.\n",
    "- The following models are tested:\n",
    "  - **Logistic Regression**\n",
    "  - **Random Forest**\n",
    "  - **XGBoost**\n",
    "- Feature selection was guided by the Exploratory Data Analysis (EDA), leading to the exclusion of `fbs` and `chol` due to their lack of statistical relevance with the target variable.\n",
    "- Both **Random Forest** and **XGBoost** underwent hyperparameter optimization to improve their performance.\n",
    "- XGBoost showed strong performance without signs of overfitting.\n",
    "- The objective is to identify the best-performing model that can be integrated into a web application for predicting heart disease risk based on patient input."
   ]
  },
  {
   "cell_type": "markdown",
   "id": "c130576f-8613-46ee-8a8b-b0247b5133c9",
   "metadata": {},
   "source": [
    "### Load packages"
   ]
  },
  {
   "cell_type": "code",
   "execution_count": 1,
   "id": "d602e2c1-7b4c-4fc7-9eea-554587479f84",
   "metadata": {},
   "outputs": [
    {
     "name": "stdout",
     "output_type": "stream",
     "text": [
      "Requirement already satisfied: seaborn in c:\\users\\giode\\anaconda3\\lib\\site-packages (0.13.2)\n",
      "Requirement already satisfied: numpy!=1.24.0,>=1.20 in c:\\users\\giode\\anaconda3\\lib\\site-packages (from seaborn) (1.24.3)\n",
      "Requirement already satisfied: pandas>=1.2 in c:\\users\\giode\\anaconda3\\lib\\site-packages (from seaborn) (2.2.1)\n",
      "Requirement already satisfied: matplotlib!=3.6.1,>=3.4 in c:\\users\\giode\\anaconda3\\lib\\site-packages (from seaborn) (3.8.4)\n",
      "Requirement already satisfied: contourpy>=1.0.1 in c:\\users\\giode\\anaconda3\\lib\\site-packages (from matplotlib!=3.6.1,>=3.4->seaborn) (1.2.0)\n",
      "Requirement already satisfied: cycler>=0.10 in c:\\users\\giode\\anaconda3\\lib\\site-packages (from matplotlib!=3.6.1,>=3.4->seaborn) (0.11.0)\n",
      "Requirement already satisfied: fonttools>=4.22.0 in c:\\users\\giode\\anaconda3\\lib\\site-packages (from matplotlib!=3.6.1,>=3.4->seaborn) (4.51.0)\n",
      "Requirement already satisfied: kiwisolver>=1.3.1 in c:\\users\\giode\\anaconda3\\lib\\site-packages (from matplotlib!=3.6.1,>=3.4->seaborn) (1.4.4)\n",
      "Requirement already satisfied: packaging>=20.0 in c:\\users\\giode\\anaconda3\\lib\\site-packages (from matplotlib!=3.6.1,>=3.4->seaborn) (23.2)\n",
      "Requirement already satisfied: pillow>=8 in c:\\users\\giode\\anaconda3\\lib\\site-packages (from matplotlib!=3.6.1,>=3.4->seaborn) (10.3.0)\n",
      "Requirement already satisfied: pyparsing>=2.3.1 in c:\\users\\giode\\anaconda3\\lib\\site-packages (from matplotlib!=3.6.1,>=3.4->seaborn) (3.0.9)\n",
      "Requirement already satisfied: python-dateutil>=2.7 in c:\\users\\giode\\anaconda3\\lib\\site-packages (from matplotlib!=3.6.1,>=3.4->seaborn) (2.8.2)\n",
      "Requirement already satisfied: importlib-resources>=3.2.0 in c:\\users\\giode\\anaconda3\\lib\\site-packages (from matplotlib!=3.6.1,>=3.4->seaborn) (6.1.1)\n",
      "Requirement already satisfied: pytz>=2020.1 in c:\\users\\giode\\anaconda3\\lib\\site-packages (from pandas>=1.2->seaborn) (2024.1)\n",
      "Requirement already satisfied: tzdata>=2022.7 in c:\\users\\giode\\anaconda3\\lib\\site-packages (from pandas>=1.2->seaborn) (2023.3)\n",
      "Requirement already satisfied: zipp>=3.1.0 in c:\\users\\giode\\anaconda3\\lib\\site-packages (from importlib-resources>=3.2.0->matplotlib!=3.6.1,>=3.4->seaborn) (3.17.0)\n",
      "Requirement already satisfied: six>=1.5 in c:\\users\\giode\\anaconda3\\lib\\site-packages (from python-dateutil>=2.7->matplotlib!=3.6.1,>=3.4->seaborn) (1.16.0)\n",
      "Requirement already satisfied: sklearn_pandas in c:\\users\\giode\\anaconda3\\lib\\site-packages (2.2.0)\n",
      "Requirement already satisfied: scikit-learn>=0.23.0 in c:\\users\\giode\\anaconda3\\lib\\site-packages (from sklearn_pandas) (1.1.2)\n",
      "Requirement already satisfied: scipy>=1.5.1 in c:\\users\\giode\\anaconda3\\lib\\site-packages (from sklearn_pandas) (1.10.1)\n",
      "Requirement already satisfied: pandas>=1.1.4 in c:\\users\\giode\\anaconda3\\lib\\site-packages (from sklearn_pandas) (2.2.1)\n",
      "Requirement already satisfied: numpy>=1.18.1 in c:\\users\\giode\\anaconda3\\lib\\site-packages (from sklearn_pandas) (1.24.3)\n",
      "Requirement already satisfied: python-dateutil>=2.8.2 in c:\\users\\giode\\anaconda3\\lib\\site-packages (from pandas>=1.1.4->sklearn_pandas) (2.8.2)\n",
      "Requirement already satisfied: pytz>=2020.1 in c:\\users\\giode\\anaconda3\\lib\\site-packages (from pandas>=1.1.4->sklearn_pandas) (2024.1)\n",
      "Requirement already satisfied: tzdata>=2022.7 in c:\\users\\giode\\anaconda3\\lib\\site-packages (from pandas>=1.1.4->sklearn_pandas) (2023.3)\n",
      "Requirement already satisfied: joblib>=1.0.0 in c:\\users\\giode\\anaconda3\\lib\\site-packages (from scikit-learn>=0.23.0->sklearn_pandas) (1.4.0)\n",
      "Requirement already satisfied: threadpoolctl>=2.0.0 in c:\\users\\giode\\anaconda3\\lib\\site-packages (from scikit-learn>=0.23.0->sklearn_pandas) (2.2.0)\n",
      "Requirement already satisfied: six>=1.5 in c:\\users\\giode\\anaconda3\\lib\\site-packages (from python-dateutil>=2.8.2->pandas>=1.1.4->sklearn_pandas) (1.16.0)\n"
     ]
    }
   ],
   "source": [
    "#Installations\n",
    "!pip install seaborn --upgrade\n",
    "!pip install sklearn_pandas"
   ]
  },
  {
   "cell_type": "code",
   "execution_count": 2,
   "id": "4ce7e1e0-8aab-4652-a5ad-8984f0ac3e18",
   "metadata": {},
   "outputs": [],
   "source": [
    "import pandas as pd\n",
    "import numpy as np\n",
    "\n",
    "\n",
    "from sklearn.metrics import accuracy_score, f1_score, precision_score, recall_score, roc_auc_score, confusion_matrix, classification_report\n",
    "from sklearn.model_selection import train_test_split\n",
    "\n",
    "#Data processing\n",
    "from sklearn_pandas import DataFrameMapper\n",
    "import sklearn.preprocessing, sklearn.decomposition, sklearn.linear_model, sklearn.pipeline, sklearn.compose\n",
    "from sklearn.preprocessing import StandardScaler,LabelBinarizer\n",
    "\n",
    "#Data visualization\n",
    "import seaborn as sns\n",
    "import matplotlib.pyplot as plt\n",
    "\n",
    "import warnings\n",
    "warnings.filterwarnings(\"ignore\")\n",
    "\n",
    "#Models\n",
    "from sklearn.linear_model import LogisticRegression\n",
    "from sklearn.ensemble import RandomForestClassifier\n",
    "import xgboost as xgb\n",
    "\n",
    "#Training\n",
    "from sklearn.model_selection import GridSearchCV"
   ]
  },
  {
   "cell_type": "markdown",
   "id": "0f206b62-3efe-41ad-9b79-d9e4ef569712",
   "metadata": {},
   "source": [
    "### Load data\n",
    "This data was already processed on the EDA notebooks"
   ]
  },
  {
   "cell_type": "code",
   "execution_count": 3,
   "id": "15a4b16b-b9ce-4601-b572-5a3d71097b77",
   "metadata": {},
   "outputs": [],
   "source": [
    "dir = '../data/'\n",
    "df0 = pd.read_csv(dir+'raw/heart-disease.csv') #Raw data\n",
    "df = pd.read_csv(dir+'processed/heart-disease-no-duplicated.csv') #Data without duplicated values\n",
    "df_outlier = pd.read_csv(dir+'processed/heart-disease-no-outliers.csv') #Data without duplicated values an outliers"
   ]
  },
  {
   "cell_type": "code",
   "execution_count": 4,
   "id": "b8636706-3f0e-4451-8997-9a25bd4ab4c4",
   "metadata": {},
   "outputs": [],
   "source": [
    "categorical_vars = ['sex', 'cp', 'restecg', 'exang', 'slope', 'ca', 'thal']\n",
    "continuos_vars = ['age', 'trestbps', 'thalach', 'oldpeak']\n",
    "target = ['target']\n",
    "\n",
    "drop_columns = ['fbs','chol'] #Lets drop these variables because they didn't correlated well with heart disease."
   ]
  },
  {
   "cell_type": "code",
   "execution_count": 5,
   "id": "d872c950-89f3-46e0-9ef3-3e47522c77e7",
   "metadata": {},
   "outputs": [],
   "source": [
    "#Create X and y\n",
    "df_outlier = df_outlier[df_outlier['thal']!=0] #Extra cleaning\n",
    "df_outlier = df_outlier[df_outlier['ca']!=4] #Extra cleaning\n",
    "\n",
    "df_outlier.drop(drop_columns, axis = 1,inplace = True)\n",
    "\n",
    "\n",
    "X = df_outlier.drop('target',axis = 1)\n",
    "y = df_outlier['target']"
   ]
  },
  {
   "cell_type": "code",
   "execution_count": 6,
   "id": "114988ee-994b-4f8b-98e1-59c29e57ec86",
   "metadata": {},
   "outputs": [
    {
     "name": "stdout",
     "output_type": "stream",
     "text": [
      "(221, 11) (56, 11)\n"
     ]
    }
   ],
   "source": [
    "# Split the data\n",
    "X_train, X_test, y_train, y_test = train_test_split(X, y, test_size=0.2, random_state=42)\n",
    "print(X_train.shape, X_test.shape)"
   ]
  },
  {
   "cell_type": "markdown",
   "id": "7f32dec5-111b-4491-a696-876e549e743e",
   "metadata": {},
   "source": [
    "# Baseline model: Logistic regression"
   ]
  },
  {
   "cell_type": "code",
   "execution_count": 7,
   "id": "4e216904-3b4e-4878-a883-add7c1b5e3fa",
   "metadata": {},
   "outputs": [],
   "source": [
    "def model_evaluation(y_true, y_pred):\n",
    "    # Calcula as métricas\n",
    "    accuracy = accuracy_score(y_true, y_pred)\n",
    "    f1 = f1_score(y_true, y_pred)\n",
    "    precision = precision_score(y_true, y_pred)\n",
    "    recall = recall_score(y_true, y_pred)\n",
    "    auc_roc = roc_auc_score(y_true, y_pred)\n",
    "    conf_matrix = confusion_matrix(y_true, y_pred)\n",
    "\n",
    "    # Exibe as métricas\n",
    "    print(f\"Accuracy: {accuracy:.2f}\")\n",
    "    print(f\"F1-Score: {f1:.2f}\")\n",
    "    print(f\"Precision: {precision:.2f}\")\n",
    "    print(f\"Recall: {recall:.2f}\")\n",
    "    print(f\"AUC-ROC: {auc_roc:.2f}\")\n",
    "    \n",
    "    # Plota a Matriz de Confusão\n",
    "    plt.figure(figsize=(8, 6))\n",
    "    sns.heatmap(conf_matrix, annot=True, fmt='d', cmap='Blues', cbar=False, xticklabels=np.unique(y_true), yticklabels=np.unique(y_true))\n",
    "    plt.xlabel('Predicted')\n",
    "    plt.ylabel('True')\n",
    "    plt.title('Confusion Matrix')\n",
    "    plt.show()"
   ]
  },
  {
   "cell_type": "code",
   "execution_count": 8,
   "id": "602a903c-fba4-4779-9b04-8e82f9dc5578",
   "metadata": {},
   "outputs": [],
   "source": [
    "def feat_importance(values, columns):\n",
    "    df_coef = pd.DataFrame((list(zip(columns, values))), columns = ['feature','coef'])\n",
    "    df_coef['abs_coef'] = df_coef['coef'].abs()\n",
    "    df_coef.sort_values('abs_coef', ascending = False, inplace = True)\n",
    "    print(df_coef[['feature','coef']])"
   ]
  },
  {
   "cell_type": "code",
   "execution_count": 9,
   "id": "b6c5dcd2-ad4c-442e-848a-e191630cb50e",
   "metadata": {},
   "outputs": [
    {
     "data": {
      "text/html": [
       "<style>#sk-container-id-1 {\n",
       "  /* Definition of color scheme common for light and dark mode */\n",
       "  --sklearn-color-text: black;\n",
       "  --sklearn-color-line: gray;\n",
       "  /* Definition of color scheme for unfitted estimators */\n",
       "  --sklearn-color-unfitted-level-0: #fff5e6;\n",
       "  --sklearn-color-unfitted-level-1: #f6e4d2;\n",
       "  --sklearn-color-unfitted-level-2: #ffe0b3;\n",
       "  --sklearn-color-unfitted-level-3: chocolate;\n",
       "  /* Definition of color scheme for fitted estimators */\n",
       "  --sklearn-color-fitted-level-0: #f0f8ff;\n",
       "  --sklearn-color-fitted-level-1: #d4ebff;\n",
       "  --sklearn-color-fitted-level-2: #b3dbfd;\n",
       "  --sklearn-color-fitted-level-3: cornflowerblue;\n",
       "\n",
       "  /* Specific color for light theme */\n",
       "  --sklearn-color-text-on-default-background: var(--sg-text-color, var(--theme-code-foreground, var(--jp-content-font-color1, black)));\n",
       "  --sklearn-color-background: var(--sg-background-color, var(--theme-background, var(--jp-layout-color0, white)));\n",
       "  --sklearn-color-border-box: var(--sg-text-color, var(--theme-code-foreground, var(--jp-content-font-color1, black)));\n",
       "  --sklearn-color-icon: #696969;\n",
       "\n",
       "  @media (prefers-color-scheme: dark) {\n",
       "    /* Redefinition of color scheme for dark theme */\n",
       "    --sklearn-color-text-on-default-background: var(--sg-text-color, var(--theme-code-foreground, var(--jp-content-font-color1, white)));\n",
       "    --sklearn-color-background: var(--sg-background-color, var(--theme-background, var(--jp-layout-color0, #111)));\n",
       "    --sklearn-color-border-box: var(--sg-text-color, var(--theme-code-foreground, var(--jp-content-font-color1, white)));\n",
       "    --sklearn-color-icon: #878787;\n",
       "  }\n",
       "}\n",
       "\n",
       "#sk-container-id-1 {\n",
       "  color: var(--sklearn-color-text);\n",
       "}\n",
       "\n",
       "#sk-container-id-1 pre {\n",
       "  padding: 0;\n",
       "}\n",
       "\n",
       "#sk-container-id-1 input.sk-hidden--visually {\n",
       "  border: 0;\n",
       "  clip: rect(1px 1px 1px 1px);\n",
       "  clip: rect(1px, 1px, 1px, 1px);\n",
       "  height: 1px;\n",
       "  margin: -1px;\n",
       "  overflow: hidden;\n",
       "  padding: 0;\n",
       "  position: absolute;\n",
       "  width: 1px;\n",
       "}\n",
       "\n",
       "#sk-container-id-1 div.sk-dashed-wrapped {\n",
       "  border: 1px dashed var(--sklearn-color-line);\n",
       "  margin: 0 0.4em 0.5em 0.4em;\n",
       "  box-sizing: border-box;\n",
       "  padding-bottom: 0.4em;\n",
       "  background-color: var(--sklearn-color-background);\n",
       "}\n",
       "\n",
       "#sk-container-id-1 div.sk-container {\n",
       "  /* jupyter's `normalize.less` sets `[hidden] { display: none; }`\n",
       "     but bootstrap.min.css set `[hidden] { display: none !important; }`\n",
       "     so we also need the `!important` here to be able to override the\n",
       "     default hidden behavior on the sphinx rendered scikit-learn.org.\n",
       "     See: https://github.com/scikit-learn/scikit-learn/issues/21755 */\n",
       "  display: inline-block !important;\n",
       "  position: relative;\n",
       "}\n",
       "\n",
       "#sk-container-id-1 div.sk-text-repr-fallback {\n",
       "  display: none;\n",
       "}\n",
       "\n",
       "div.sk-parallel-item,\n",
       "div.sk-serial,\n",
       "div.sk-item {\n",
       "  /* draw centered vertical line to link estimators */\n",
       "  background-image: linear-gradient(var(--sklearn-color-text-on-default-background), var(--sklearn-color-text-on-default-background));\n",
       "  background-size: 2px 100%;\n",
       "  background-repeat: no-repeat;\n",
       "  background-position: center center;\n",
       "}\n",
       "\n",
       "/* Parallel-specific style estimator block */\n",
       "\n",
       "#sk-container-id-1 div.sk-parallel-item::after {\n",
       "  content: \"\";\n",
       "  width: 100%;\n",
       "  border-bottom: 2px solid var(--sklearn-color-text-on-default-background);\n",
       "  flex-grow: 1;\n",
       "}\n",
       "\n",
       "#sk-container-id-1 div.sk-parallel {\n",
       "  display: flex;\n",
       "  align-items: stretch;\n",
       "  justify-content: center;\n",
       "  background-color: var(--sklearn-color-background);\n",
       "  position: relative;\n",
       "}\n",
       "\n",
       "#sk-container-id-1 div.sk-parallel-item {\n",
       "  display: flex;\n",
       "  flex-direction: column;\n",
       "}\n",
       "\n",
       "#sk-container-id-1 div.sk-parallel-item:first-child::after {\n",
       "  align-self: flex-end;\n",
       "  width: 50%;\n",
       "}\n",
       "\n",
       "#sk-container-id-1 div.sk-parallel-item:last-child::after {\n",
       "  align-self: flex-start;\n",
       "  width: 50%;\n",
       "}\n",
       "\n",
       "#sk-container-id-1 div.sk-parallel-item:only-child::after {\n",
       "  width: 0;\n",
       "}\n",
       "\n",
       "/* Serial-specific style estimator block */\n",
       "\n",
       "#sk-container-id-1 div.sk-serial {\n",
       "  display: flex;\n",
       "  flex-direction: column;\n",
       "  align-items: center;\n",
       "  background-color: var(--sklearn-color-background);\n",
       "  padding-right: 1em;\n",
       "  padding-left: 1em;\n",
       "}\n",
       "\n",
       "\n",
       "/* Toggleable style: style used for estimator/Pipeline/ColumnTransformer box that is\n",
       "clickable and can be expanded/collapsed.\n",
       "- Pipeline and ColumnTransformer use this feature and define the default style\n",
       "- Estimators will overwrite some part of the style using the `sk-estimator` class\n",
       "*/\n",
       "\n",
       "/* Pipeline and ColumnTransformer style (default) */\n",
       "\n",
       "#sk-container-id-1 div.sk-toggleable {\n",
       "  /* Default theme specific background. It is overwritten whether we have a\n",
       "  specific estimator or a Pipeline/ColumnTransformer */\n",
       "  background-color: var(--sklearn-color-background);\n",
       "}\n",
       "\n",
       "/* Toggleable label */\n",
       "#sk-container-id-1 label.sk-toggleable__label {\n",
       "  cursor: pointer;\n",
       "  display: block;\n",
       "  width: 100%;\n",
       "  margin-bottom: 0;\n",
       "  padding: 0.5em;\n",
       "  box-sizing: border-box;\n",
       "  text-align: center;\n",
       "}\n",
       "\n",
       "#sk-container-id-1 label.sk-toggleable__label-arrow:before {\n",
       "  /* Arrow on the left of the label */\n",
       "  content: \"▸\";\n",
       "  float: left;\n",
       "  margin-right: 0.25em;\n",
       "  color: var(--sklearn-color-icon);\n",
       "}\n",
       "\n",
       "#sk-container-id-1 label.sk-toggleable__label-arrow:hover:before {\n",
       "  color: var(--sklearn-color-text);\n",
       "}\n",
       "\n",
       "/* Toggleable content - dropdown */\n",
       "\n",
       "#sk-container-id-1 div.sk-toggleable__content {\n",
       "  max-height: 0;\n",
       "  max-width: 0;\n",
       "  overflow: hidden;\n",
       "  text-align: left;\n",
       "  /* unfitted */\n",
       "  background-color: var(--sklearn-color-unfitted-level-0);\n",
       "}\n",
       "\n",
       "#sk-container-id-1 div.sk-toggleable__content.fitted {\n",
       "  /* fitted */\n",
       "  background-color: var(--sklearn-color-fitted-level-0);\n",
       "}\n",
       "\n",
       "#sk-container-id-1 div.sk-toggleable__content pre {\n",
       "  margin: 0.2em;\n",
       "  border-radius: 0.25em;\n",
       "  color: var(--sklearn-color-text);\n",
       "  /* unfitted */\n",
       "  background-color: var(--sklearn-color-unfitted-level-0);\n",
       "}\n",
       "\n",
       "#sk-container-id-1 div.sk-toggleable__content.fitted pre {\n",
       "  /* unfitted */\n",
       "  background-color: var(--sklearn-color-fitted-level-0);\n",
       "}\n",
       "\n",
       "#sk-container-id-1 input.sk-toggleable__control:checked~div.sk-toggleable__content {\n",
       "  /* Expand drop-down */\n",
       "  max-height: 200px;\n",
       "  max-width: 100%;\n",
       "  overflow: auto;\n",
       "}\n",
       "\n",
       "#sk-container-id-1 input.sk-toggleable__control:checked~label.sk-toggleable__label-arrow:before {\n",
       "  content: \"▾\";\n",
       "}\n",
       "\n",
       "/* Pipeline/ColumnTransformer-specific style */\n",
       "\n",
       "#sk-container-id-1 div.sk-label input.sk-toggleable__control:checked~label.sk-toggleable__label {\n",
       "  color: var(--sklearn-color-text);\n",
       "  background-color: var(--sklearn-color-unfitted-level-2);\n",
       "}\n",
       "\n",
       "#sk-container-id-1 div.sk-label.fitted input.sk-toggleable__control:checked~label.sk-toggleable__label {\n",
       "  background-color: var(--sklearn-color-fitted-level-2);\n",
       "}\n",
       "\n",
       "/* Estimator-specific style */\n",
       "\n",
       "/* Colorize estimator box */\n",
       "#sk-container-id-1 div.sk-estimator input.sk-toggleable__control:checked~label.sk-toggleable__label {\n",
       "  /* unfitted */\n",
       "  background-color: var(--sklearn-color-unfitted-level-2);\n",
       "}\n",
       "\n",
       "#sk-container-id-1 div.sk-estimator.fitted input.sk-toggleable__control:checked~label.sk-toggleable__label {\n",
       "  /* fitted */\n",
       "  background-color: var(--sklearn-color-fitted-level-2);\n",
       "}\n",
       "\n",
       "#sk-container-id-1 div.sk-label label.sk-toggleable__label,\n",
       "#sk-container-id-1 div.sk-label label {\n",
       "  /* The background is the default theme color */\n",
       "  color: var(--sklearn-color-text-on-default-background);\n",
       "}\n",
       "\n",
       "/* On hover, darken the color of the background */\n",
       "#sk-container-id-1 div.sk-label:hover label.sk-toggleable__label {\n",
       "  color: var(--sklearn-color-text);\n",
       "  background-color: var(--sklearn-color-unfitted-level-2);\n",
       "}\n",
       "\n",
       "/* Label box, darken color on hover, fitted */\n",
       "#sk-container-id-1 div.sk-label.fitted:hover label.sk-toggleable__label.fitted {\n",
       "  color: var(--sklearn-color-text);\n",
       "  background-color: var(--sklearn-color-fitted-level-2);\n",
       "}\n",
       "\n",
       "/* Estimator label */\n",
       "\n",
       "#sk-container-id-1 div.sk-label label {\n",
       "  font-family: monospace;\n",
       "  font-weight: bold;\n",
       "  display: inline-block;\n",
       "  line-height: 1.2em;\n",
       "}\n",
       "\n",
       "#sk-container-id-1 div.sk-label-container {\n",
       "  text-align: center;\n",
       "}\n",
       "\n",
       "/* Estimator-specific */\n",
       "#sk-container-id-1 div.sk-estimator {\n",
       "  font-family: monospace;\n",
       "  border: 1px dotted var(--sklearn-color-border-box);\n",
       "  border-radius: 0.25em;\n",
       "  box-sizing: border-box;\n",
       "  margin-bottom: 0.5em;\n",
       "  /* unfitted */\n",
       "  background-color: var(--sklearn-color-unfitted-level-0);\n",
       "}\n",
       "\n",
       "#sk-container-id-1 div.sk-estimator.fitted {\n",
       "  /* fitted */\n",
       "  background-color: var(--sklearn-color-fitted-level-0);\n",
       "}\n",
       "\n",
       "/* on hover */\n",
       "#sk-container-id-1 div.sk-estimator:hover {\n",
       "  /* unfitted */\n",
       "  background-color: var(--sklearn-color-unfitted-level-2);\n",
       "}\n",
       "\n",
       "#sk-container-id-1 div.sk-estimator.fitted:hover {\n",
       "  /* fitted */\n",
       "  background-color: var(--sklearn-color-fitted-level-2);\n",
       "}\n",
       "\n",
       "/* Specification for estimator info (e.g. \"i\" and \"?\") */\n",
       "\n",
       "/* Common style for \"i\" and \"?\" */\n",
       "\n",
       ".sk-estimator-doc-link,\n",
       "a:link.sk-estimator-doc-link,\n",
       "a:visited.sk-estimator-doc-link {\n",
       "  float: right;\n",
       "  font-size: smaller;\n",
       "  line-height: 1em;\n",
       "  font-family: monospace;\n",
       "  background-color: var(--sklearn-color-background);\n",
       "  border-radius: 1em;\n",
       "  height: 1em;\n",
       "  width: 1em;\n",
       "  text-decoration: none !important;\n",
       "  margin-left: 1ex;\n",
       "  /* unfitted */\n",
       "  border: var(--sklearn-color-unfitted-level-1) 1pt solid;\n",
       "  color: var(--sklearn-color-unfitted-level-1);\n",
       "}\n",
       "\n",
       ".sk-estimator-doc-link.fitted,\n",
       "a:link.sk-estimator-doc-link.fitted,\n",
       "a:visited.sk-estimator-doc-link.fitted {\n",
       "  /* fitted */\n",
       "  border: var(--sklearn-color-fitted-level-1) 1pt solid;\n",
       "  color: var(--sklearn-color-fitted-level-1);\n",
       "}\n",
       "\n",
       "/* On hover */\n",
       "div.sk-estimator:hover .sk-estimator-doc-link:hover,\n",
       ".sk-estimator-doc-link:hover,\n",
       "div.sk-label-container:hover .sk-estimator-doc-link:hover,\n",
       ".sk-estimator-doc-link:hover {\n",
       "  /* unfitted */\n",
       "  background-color: var(--sklearn-color-unfitted-level-3);\n",
       "  color: var(--sklearn-color-background);\n",
       "  text-decoration: none;\n",
       "}\n",
       "\n",
       "div.sk-estimator.fitted:hover .sk-estimator-doc-link.fitted:hover,\n",
       ".sk-estimator-doc-link.fitted:hover,\n",
       "div.sk-label-container:hover .sk-estimator-doc-link.fitted:hover,\n",
       ".sk-estimator-doc-link.fitted:hover {\n",
       "  /* fitted */\n",
       "  background-color: var(--sklearn-color-fitted-level-3);\n",
       "  color: var(--sklearn-color-background);\n",
       "  text-decoration: none;\n",
       "}\n",
       "\n",
       "/* Span, style for the box shown on hovering the info icon */\n",
       ".sk-estimator-doc-link span {\n",
       "  display: none;\n",
       "  z-index: 9999;\n",
       "  position: relative;\n",
       "  font-weight: normal;\n",
       "  right: .2ex;\n",
       "  padding: .5ex;\n",
       "  margin: .5ex;\n",
       "  width: min-content;\n",
       "  min-width: 20ex;\n",
       "  max-width: 50ex;\n",
       "  color: var(--sklearn-color-text);\n",
       "  box-shadow: 2pt 2pt 4pt #999;\n",
       "  /* unfitted */\n",
       "  background: var(--sklearn-color-unfitted-level-0);\n",
       "  border: .5pt solid var(--sklearn-color-unfitted-level-3);\n",
       "}\n",
       "\n",
       ".sk-estimator-doc-link.fitted span {\n",
       "  /* fitted */\n",
       "  background: var(--sklearn-color-fitted-level-0);\n",
       "  border: var(--sklearn-color-fitted-level-3);\n",
       "}\n",
       "\n",
       ".sk-estimator-doc-link:hover span {\n",
       "  display: block;\n",
       "}\n",
       "\n",
       "/* \"?\"-specific style due to the `<a>` HTML tag */\n",
       "\n",
       "#sk-container-id-1 a.estimator_doc_link {\n",
       "  float: right;\n",
       "  font-size: 1rem;\n",
       "  line-height: 1em;\n",
       "  font-family: monospace;\n",
       "  background-color: var(--sklearn-color-background);\n",
       "  border-radius: 1rem;\n",
       "  height: 1rem;\n",
       "  width: 1rem;\n",
       "  text-decoration: none;\n",
       "  /* unfitted */\n",
       "  color: var(--sklearn-color-unfitted-level-1);\n",
       "  border: var(--sklearn-color-unfitted-level-1) 1pt solid;\n",
       "}\n",
       "\n",
       "#sk-container-id-1 a.estimator_doc_link.fitted {\n",
       "  /* fitted */\n",
       "  border: var(--sklearn-color-fitted-level-1) 1pt solid;\n",
       "  color: var(--sklearn-color-fitted-level-1);\n",
       "}\n",
       "\n",
       "/* On hover */\n",
       "#sk-container-id-1 a.estimator_doc_link:hover {\n",
       "  /* unfitted */\n",
       "  background-color: var(--sklearn-color-unfitted-level-3);\n",
       "  color: var(--sklearn-color-background);\n",
       "  text-decoration: none;\n",
       "}\n",
       "\n",
       "#sk-container-id-1 a.estimator_doc_link.fitted:hover {\n",
       "  /* fitted */\n",
       "  background-color: var(--sklearn-color-fitted-level-3);\n",
       "}\n",
       "</style><div id=\"sk-container-id-1\" class=\"sk-top-container\"><div class=\"sk-text-repr-fallback\"><pre>Pipeline(steps=[(&#x27;mapper&#x27;,\n",
       "                 DataFrameMapper(drop_cols=[],\n",
       "                                 features=[([&#x27;age&#x27;], StandardScaler()),\n",
       "                                           ([&#x27;trestbps&#x27;], StandardScaler()),\n",
       "                                           ([&#x27;thalach&#x27;], StandardScaler()),\n",
       "                                           ([&#x27;oldpeak&#x27;], StandardScaler()),\n",
       "                                           (&#x27;sex&#x27;, LabelBinarizer()),\n",
       "                                           (&#x27;cp&#x27;, LabelBinarizer()),\n",
       "                                           (&#x27;restecg&#x27;, LabelBinarizer()),\n",
       "                                           (&#x27;exang&#x27;, LabelBinarizer()),\n",
       "                                           (&#x27;slope&#x27;, LabelBinarizer()),\n",
       "                                           (&#x27;ca&#x27;, LabelBinarizer()),\n",
       "                                           (&#x27;thal&#x27;, LabelBinarizer())])),\n",
       "                (&#x27;estimator&#x27;, LogisticRegression())])</pre><b>In a Jupyter environment, please rerun this cell to show the HTML representation or trust the notebook. <br />On GitHub, the HTML representation is unable to render, please try loading this page with nbviewer.org.</b></div><div class=\"sk-container\" hidden><div class=\"sk-item sk-dashed-wrapped\"><div class=\"sk-label-container\"><div class=\"sk-label fitted sk-toggleable\"><input class=\"sk-toggleable__control sk-hidden--visually\" id=\"sk-estimator-id-1\" type=\"checkbox\" ><label for=\"sk-estimator-id-1\" class=\"sk-toggleable__label fitted sk-toggleable__label-arrow fitted\">&nbsp;&nbsp;Pipeline<a class=\"sk-estimator-doc-link fitted\" rel=\"noreferrer\" target=\"_blank\" href=\"https://scikit-learn.org/1.4/modules/generated/sklearn.pipeline.Pipeline.html\">?<span>Documentation for Pipeline</span></a><span class=\"sk-estimator-doc-link fitted\">i<span>Fitted</span></span></label><div class=\"sk-toggleable__content fitted\"><pre>Pipeline(steps=[(&#x27;mapper&#x27;,\n",
       "                 DataFrameMapper(drop_cols=[],\n",
       "                                 features=[([&#x27;age&#x27;], StandardScaler()),\n",
       "                                           ([&#x27;trestbps&#x27;], StandardScaler()),\n",
       "                                           ([&#x27;thalach&#x27;], StandardScaler()),\n",
       "                                           ([&#x27;oldpeak&#x27;], StandardScaler()),\n",
       "                                           (&#x27;sex&#x27;, LabelBinarizer()),\n",
       "                                           (&#x27;cp&#x27;, LabelBinarizer()),\n",
       "                                           (&#x27;restecg&#x27;, LabelBinarizer()),\n",
       "                                           (&#x27;exang&#x27;, LabelBinarizer()),\n",
       "                                           (&#x27;slope&#x27;, LabelBinarizer()),\n",
       "                                           (&#x27;ca&#x27;, LabelBinarizer()),\n",
       "                                           (&#x27;thal&#x27;, LabelBinarizer())])),\n",
       "                (&#x27;estimator&#x27;, LogisticRegression())])</pre></div> </div></div><div class=\"sk-serial\"><div class=\"sk-item\"><div class=\"sk-estimator fitted sk-toggleable\"><input class=\"sk-toggleable__control sk-hidden--visually\" id=\"sk-estimator-id-2\" type=\"checkbox\" ><label for=\"sk-estimator-id-2\" class=\"sk-toggleable__label fitted sk-toggleable__label-arrow fitted\">DataFrameMapper</label><div class=\"sk-toggleable__content fitted\"><pre>DataFrameMapper(drop_cols=[],\n",
       "                features=[([&#x27;age&#x27;], StandardScaler()),\n",
       "                          ([&#x27;trestbps&#x27;], StandardScaler()),\n",
       "                          ([&#x27;thalach&#x27;], StandardScaler()),\n",
       "                          ([&#x27;oldpeak&#x27;], StandardScaler()),\n",
       "                          (&#x27;sex&#x27;, LabelBinarizer()), (&#x27;cp&#x27;, LabelBinarizer()),\n",
       "                          (&#x27;restecg&#x27;, LabelBinarizer()),\n",
       "                          (&#x27;exang&#x27;, LabelBinarizer()),\n",
       "                          (&#x27;slope&#x27;, LabelBinarizer()), (&#x27;ca&#x27;, LabelBinarizer()),\n",
       "                          (&#x27;thal&#x27;, LabelBinarizer())])</pre></div> </div></div><div class=\"sk-item\"><div class=\"sk-estimator fitted sk-toggleable\"><input class=\"sk-toggleable__control sk-hidden--visually\" id=\"sk-estimator-id-3\" type=\"checkbox\" ><label for=\"sk-estimator-id-3\" class=\"sk-toggleable__label fitted sk-toggleable__label-arrow fitted\">&nbsp;LogisticRegression<a class=\"sk-estimator-doc-link fitted\" rel=\"noreferrer\" target=\"_blank\" href=\"https://scikit-learn.org/1.4/modules/generated/sklearn.linear_model.LogisticRegression.html\">?<span>Documentation for LogisticRegression</span></a></label><div class=\"sk-toggleable__content fitted\"><pre>LogisticRegression()</pre></div> </div></div></div></div></div></div>"
      ],
      "text/plain": [
       "Pipeline(steps=[('mapper',\n",
       "                 DataFrameMapper(drop_cols=[],\n",
       "                                 features=[(['age'], StandardScaler()),\n",
       "                                           (['trestbps'], StandardScaler()),\n",
       "                                           (['thalach'], StandardScaler()),\n",
       "                                           (['oldpeak'], StandardScaler()),\n",
       "                                           ('sex', LabelBinarizer()),\n",
       "                                           ('cp', LabelBinarizer()),\n",
       "                                           ('restecg', LabelBinarizer()),\n",
       "                                           ('exang', LabelBinarizer()),\n",
       "                                           ('slope', LabelBinarizer()),\n",
       "                                           ('ca', LabelBinarizer()),\n",
       "                                           ('thal', LabelBinarizer())])),\n",
       "                ('estimator', LogisticRegression())])"
      ]
     },
     "execution_count": 9,
     "metadata": {},
     "output_type": "execute_result"
    }
   ],
   "source": [
    "#Create pipeline\n",
    "\n",
    "mapper = DataFrameMapper(\n",
    "  [([continuous_col], StandardScaler()) for continuous_col in continuos_vars] +\n",
    "  [(categorical_col, LabelBinarizer()) for categorical_col in categorical_vars]\n",
    ")\n",
    "estimator = LogisticRegression()\n",
    "\n",
    "pipeline = sklearn.pipeline.Pipeline(\n",
    "  [(\"mapper\", mapper),\n",
    "  (\"estimator\", estimator)]\n",
    ")\n",
    "pipeline.fit(X_train, y_train)"
   ]
  },
  {
   "cell_type": "code",
   "execution_count": 10,
   "id": "d0f75ac2-b57f-42d1-ad81-2c75a358259b",
   "metadata": {},
   "outputs": [
    {
     "name": "stdout",
     "output_type": "stream",
     "text": [
      "Accuracy: 0.87\n",
      "F1-Score: 0.89\n",
      "Precision: 0.86\n",
      "Recall: 0.93\n",
      "AUC-ROC: 0.87\n"
     ]
    },
    {
     "data": {
      "image/png": "[encoded data removed]",
      "text/plain": [
       "<Figure size 800x600 with 1 Axes>"
      ]
     },
     "metadata": {},
     "output_type": "display_data"
    }
   ],
   "source": [
    "y_pred = pipeline.predict(X_train)\n",
    "model_evaluation(y_train,y_pred)"
   ]
  },
  {
   "cell_type": "code",
   "execution_count": 11,
   "id": "5b8bdf9b-9582-4a2d-bed7-d1b9c6ad44a9",
   "metadata": {},
   "outputs": [],
   "source": [
    "#Evaluate on test data\n",
    "y_pred = pipeline.predict(X_test)"
   ]
  },
  {
   "cell_type": "code",
   "execution_count": 12,
   "id": "c2ae57de-5f48-416e-a8a6-1d7eb5994b6c",
   "metadata": {},
   "outputs": [
    {
     "name": "stdout",
     "output_type": "stream",
     "text": [
      "Accuracy: 0.86\n",
      "F1-Score: 0.87\n",
      "Precision: 0.87\n",
      "Recall: 0.87\n",
      "AUC-ROC: 0.86\n"
     ]
    },
    {
     "data": {
      "image/png": "[encoded data removed]",
      "text/plain": [
       "<Figure size 800x600 with 1 Axes>"
      ]
     },
     "metadata": {},
     "output_type": "display_data"
    }
   ],
   "source": [
    "model_evaluation(y_test,y_pred)"
   ]
  },
  {
   "cell_type": "markdown",
   "id": "dd9d0a40-d6f3-4f2f-bbec-07f11c61afba",
   "metadata": {},
   "source": [
    "## Feature importance"
   ]
  },
  {
   "cell_type": "code",
   "execution_count": 13,
   "id": "88822d72-a1a0-4645-902f-be2388cfa767",
   "metadata": {},
   "outputs": [
    {
     "name": "stdout",
     "output_type": "stream",
     "text": [
      "     feature      coef\n",
      "5    thalach -1.083655\n",
      "4    restecg -1.043583\n",
      "8      slope  0.784886\n",
      "3   trestbps -0.666688\n",
      "7    oldpeak  0.545257\n",
      "2         cp  0.319675\n",
      "9         ca -0.291173\n",
      "6      exang -0.239267\n",
      "10      thal  0.237807\n",
      "1        sex -0.181486\n",
      "0        age -0.023289\n"
     ]
    }
   ],
   "source": [
    "feat_importance(pipeline.named_steps['estimator'].coef_[0], X.columns)"
   ]
  },
  {
   "cell_type": "markdown",
   "id": "17ba1490-14f3-4233-93e5-c9303bd5abda",
   "metadata": {},
   "source": [
    "#  Random Forest Classificator"
   ]
  },
  {
   "cell_type": "code",
   "execution_count": 14,
   "id": "3d924855-e5e1-4ad9-86e2-4b3e663f0ad6",
   "metadata": {},
   "outputs": [],
   "source": [
    "estimator = RandomForestClassifier(random_state=42)\n",
    "\n",
    "pipeline = sklearn.pipeline.Pipeline(\n",
    "    [(\"mapper\", mapper),\n",
    "     (\"estimator\", estimator)]\n",
    ")\n",
    "\n",
    "# Definir os parâmetros para a otimização com GridSearch\n",
    "param_grid = {\n",
    "    'estimator__n_estimators': [20,50,100],  # Número de árvores na floresta\n",
    "    'estimator__max_depth': [None, 10,15],  # Profundidade máxima da árvore\n",
    "    'estimator__min_samples_split': [2, 5],  # Número mínimo de amostras para dividir um nó\n",
    "    'estimator__min_samples_leaf': [1, 2],    # Número mínimo de amostras por folha\n",
    "    'estimator__bootstrap': [True, False]        # Se as amostras são extraídas com ou sem substituição\n",
    "}"
   ]
  },
  {
   "cell_type": "code",
   "execution_count": 15,
   "id": "aec7ca47-9b72-484f-a6f2-5c508d2d4c29",
   "metadata": {},
   "outputs": [
    {
     "name": "stdout",
     "output_type": "stream",
     "text": [
      "Fitting 5 folds for each of 72 candidates, totalling 360 fits\n",
      "Best parameters: {'estimator__bootstrap': False, 'estimator__max_depth': 10, 'estimator__min_samples_leaf': 2, 'estimator__min_samples_split': 5, 'estimator__n_estimators': 50}\n"
     ]
    }
   ],
   "source": [
    "# Aplicar GridSearchCV para otimização\n",
    "grid_search = GridSearchCV(pipeline, param_grid, cv=5, n_jobs=-1, verbose=2)\n",
    "\n",
    "# Ajustar o pipeline e otimizar os parâmetros no conjunto de treino\n",
    "grid_search.fit(X_train, y_train)\n",
    "\n",
    "# Exibir os melhores parâmetros encontrados\n",
    "print(\"Best parameters:\", grid_search.best_params_)"
   ]
  },
  {
   "cell_type": "code",
   "execution_count": 16,
   "id": "a265949a-1c13-4703-9803-1ff608583f12",
   "metadata": {},
   "outputs": [
    {
     "data": {
      "text/plain": [
       "265    0\n",
       "126    1\n",
       "33     1\n",
       "87     1\n",
       "269    0\n",
       "      ..\n",
       "192    0\n",
       "72     1\n",
       "108    1\n",
       "276    0\n",
       "104    1\n",
       "Name: target, Length: 221, dtype: int64"
      ]
     },
     "execution_count": 16,
     "metadata": {},
     "output_type": "execute_result"
    }
   ],
   "source": [
    "y_train"
   ]
  },
  {
   "cell_type": "code",
   "execution_count": 17,
   "id": "249be196-fafa-4fe4-9189-e585b74d1fe5",
   "metadata": {},
   "outputs": [
    {
     "name": "stdout",
     "output_type": "stream",
     "text": [
      "Accuracy: 0.99\n",
      "F1-Score: 0.99\n",
      "Precision: 0.98\n",
      "Recall: 0.99\n",
      "AUC-ROC: 0.99\n"
     ]
    },
    {
     "data": {
      "image/png": "[encoded data removed]",
      "text/plain": [
       "<Figure size 800x600 with 1 Axes>"
      ]
     },
     "metadata": {},
     "output_type": "display_data"
    }
   ],
   "source": [
    "# Acessar o melhor modelo\n",
    "best_model = grid_search.best_estimator_\n",
    "\n",
    "y_pred = best_model.predict(X_train)\n",
    "model_evaluation(y_train,y_pred)"
   ]
  },
  {
   "cell_type": "code",
   "execution_count": 18,
   "id": "cf0d8627-3ee9-4af3-ab8a-ee79935c23e9",
   "metadata": {},
   "outputs": [
    {
     "name": "stdout",
     "output_type": "stream",
     "text": [
      "Accuracy: 0.86\n",
      "F1-Score: 0.87\n",
      "Precision: 0.87\n",
      "Recall: 0.87\n",
      "AUC-ROC: 0.86\n"
     ]
    },
    {
     "data": {
      "image/png": "[encoded data removed]",
      "text/plain": [
       "<Figure size 800x600 with 1 Axes>"
      ]
     },
     "metadata": {},
     "output_type": "display_data"
    }
   ],
   "source": [
    "# Avaliar no conjunto de teste\n",
    "y_pred = best_model.predict(X_test)\n",
    "\n",
    "score = best_model.score(X_test, y_test)\n",
    "model_evaluation(y_test,y_pred)"
   ]
  },
  {
   "cell_type": "markdown",
   "id": "1b34c85a-bf00-4fdf-b809-ec90d4468317",
   "metadata": {},
   "source": [
    "## XGRBoost"
   ]
  },
  {
   "cell_type": "code",
   "execution_count": 19,
   "id": "8456c046-71a3-4fae-b3f2-5f92f3a8aee4",
   "metadata": {},
   "outputs": [],
   "source": [
    "estimator = xgb.XGBClassifier(use_label_encoder=False, eval_metric='mlogloss', random_state=42)\n",
    "\n",
    "pipeline = sklearn.pipeline.Pipeline(\n",
    "    [(\"mapper\", mapper),\n",
    "     (\"estimator\", estimator)]\n",
    ")"
   ]
  },
  {
   "cell_type": "code",
   "execution_count": 20,
   "id": "77799e98-3814-4555-bd34-a6d79ae11b4c",
   "metadata": {},
   "outputs": [
    {
     "name": "stdout",
     "output_type": "stream",
     "text": [
      "Fitting 5 folds for each of 432 candidates, totalling 2160 fits\n",
      "Best parameters: {'estimator__colsample_bytree': 0.3, 'estimator__learning_rate': 0.1, 'estimator__max_depth': 3, 'estimator__n_estimators': 20, 'estimator__subsample': 0.8}\n"
     ]
    }
   ],
   "source": [
    "param_grid = {\n",
    "    'estimator__n_estimators': [5,10,20, 200],  # Número de árvores\n",
    "    'estimator__max_depth': [3, 6, 9],           # Profundidade máxima das árvores\n",
    "    'estimator__learning_rate': [0.001,0.01, 0.1], # Taxa de aprendizado\n",
    "    'estimator__subsample': [0.3,0.5,0.8],    # Proporção de amostras usadas para construir cada árvore\n",
    "    'estimator__colsample_bytree': [0.1, 0.3, 0.5,1.0] # Proporção de colunas usadas para construir cada árvore\n",
    "}\n",
    "\n",
    "# Aplicar GridSearchCV para otimização\n",
    "grid_search = GridSearchCV(pipeline, param_grid, cv=5, n_jobs=-1, verbose=2)\n",
    "\n",
    "# Ajustar o pipeline e otimizar os parâmetros no conjunto de treino\n",
    "grid_search.fit(X_train, y_train)\n",
    "\n",
    "# Exibir os melhores parâmetros encontrados\n",
    "print(\"Best parameters:\", grid_search.best_params_)\n"
   ]
  },
  {
   "cell_type": "code",
   "execution_count": 21,
   "id": "0dfc0aa4-693d-48a4-990c-c52ad279ab31",
   "metadata": {},
   "outputs": [],
   "source": [
    "# Acessar o melhor modelo\n",
    "best_model = grid_search.best_estimator_\n",
    "\n",
    "# Acessar a importância das features do melhor modelo (XGBoost)\n",
    "xgb_model = best_model.named_steps['estimator']"
   ]
  },
  {
   "cell_type": "code",
   "execution_count": 24,
   "id": "eac4f13d-8bd2-4606-b1ea-c6ae060f3cfc",
   "metadata": {},
   "outputs": [
    {
     "name": "stdout",
     "output_type": "stream",
     "text": [
      "Accuracy: 0.90\n",
      "F1-Score: 0.92\n",
      "Precision: 0.88\n",
      "Recall: 0.96\n",
      "AUC-ROC: 0.89\n"
     ]
    },
    {
     "data": {
      "image/png": "[encoded data removed]",
      "text/plain": [
       "<Figure size 800x600 with 1 Axes>"
      ]
     },
     "metadata": {},
     "output_type": "display_data"
    }
   ],
   "source": [
    "y_pred = best_model.predict(X_train)\n",
    "model_evaluation(y_train,y_pred)"
   ]
  },
  {
   "cell_type": "code",
   "execution_count": 26,
   "id": "760ff7dc-42d3-47e5-b42e-066662e21b2c",
   "metadata": {},
   "outputs": [
    {
     "name": "stdout",
     "output_type": "stream",
     "text": [
      "Accuracy: 1.00\n",
      "F1-Score: 1.00\n",
      "Precision: 1.00\n",
      "Recall: 1.00\n",
      "AUC-ROC: 1.00\n"
     ]
    },
    {
     "data": {
      "image/png": "[encoded data removed]",
      "text/plain": [
       "<Figure size 800x600 with 1 Axes>"
      ]
     },
     "metadata": {},
     "output_type": "display_data"
    }
   ],
   "source": [
    "y_pred = best_model.predict(X_test)\n",
    "model_evaluation(y_test,y_test)"
   ]
  },
  {
   "cell_type": "markdown",
   "id": "7ee46dbd-62c6-46d6-8e4e-b5fd45ccdb40",
   "metadata": {},
   "source": [
    "### Highlights\n",
    "\n",
    "- **Model Comparison**:\n",
    "  - Three models were tested: **Logistic Regression**, **Random Forest**, and **XGBoost**.\n",
    "  - The **Random Forest** model had the best performance on the training set but showed poor generalization on the test set, indicating signs of **overfitting**.\n",
    "  - The **XGBoost** model outperformed **Logistic Regression** in both training and test sets:\n",
    "    - Training F1-Score: **XGBoost** (0.92) vs. **Logistic Regression** (0.89).\n",
    "    - Test Set: **XGBoost** achieved perfect accuracy, correctly predicting all outcomes.\n",
    "\n",
    "- **Hyperparameter Tuning**:\n",
    "  - A **Grid Search with 5-fold Cross-Validation** (CV=5) was conducted to optimize the XGBoost model's performance.\n",
    "  - Best hyperparameters for XGBoost:\n",
    "    - `colsample_bytree`: **0.3**\n",
    "    - `learning_rate`: **0.1**\n",
    "    - `max_depth`: **3**\n",
    "    - `n_estimators`: **20**\n",
    "    - `subsample`: **0.8**\n",
    "\n",
    "- **Next Steps**:\n",
    "  - Due to the small dataset size, it's recommended to gather more data and re-evaluate the models to ensure generalizability and performance stability.\n"
   ]
  },
  {
   "cell_type": "markdown",
   "id": "da74fe1c-04a3-457c-bc3e-13a9544d6031",
   "metadata": {},
   "source": [
    "# Model interpretation"
   ]
  },
  {
   "cell_type": "code",
   "execution_count": 28,
   "id": "61d63fbe-3702-40a4-951c-3be20c039662",
   "metadata": {},
   "outputs": [
    {
     "name": "stdout",
     "output_type": "stream",
     "text": [
      "     feature      coef\n",
      "5    thalach  0.136634\n",
      "4    restecg  0.051962\n",
      "2         cp  0.049218\n",
      "3   trestbps  0.030813\n",
      "0        age  0.023028\n",
      "8      slope  0.018242\n",
      "1        sex  0.017451\n",
      "6      exang  0.016629\n",
      "9         ca  0.011735\n",
      "7    oldpeak  0.011142\n",
      "10      thal  0.010260\n"
     ]
    }
   ],
   "source": [
    "xgb_features= xgb_model.feature_importances_\n",
    "feat_importance(xgb_features, X.columns)"
   ]
  },
  {
   "cell_type": "markdown",
   "id": "6ebeab29-b20e-4a03-aac3-59e94043b7a3",
   "metadata": {},
   "source": [
    "### Feature Importance Highlights (XGBoost Model)\n",
    "\n",
    "- **Most Impactful Feature**:\n",
    "  - **thalach** (Maximum heart rate achieved) had the highest importance score (**0.1366**), highlighting its critical role in predicting heart disease. This emphasizes the significance of heart rate in distinguishing patients with cardiovascular conditions.\n",
    "\n",
    "- **Other Key Features**:\n",
    "  - **restecg** (Resting electrocardiographic results): Importance score of **0.0519**.\n",
    "  - **cp** (Chest pain type): Importance score of **0.0492**.\n",
    "    - These features align with medical expectations as chest pain and ECG results are essential indicators of heart disease.\n",
    "\n",
    "- **Moderately Important Features**:\n",
    "  - **trestbps** (Resting blood pressure): Importance score of **0.0308**.\n",
    "  - **age**: Importance score of **0.0230**.\n",
    "    - Both features are commonly linked to cardiovascular health, reflecting their moderate but expected influence.\n",
    "\n",
    "- **Less Impactful Features**:\n",
    "  - **oldpeak** (ST depression induced by exercise): Importance score of **0.0111**.\n",
    "  - **thal** (Thalassemia): Importance score of **0.0103**.\n",
    "  - **exang** (Exercise-induced angina): Importance score of **0.0166**.\n",
    "  - **ca** (Number of major vessels colored by fluoroscopy): Importance score of **0.0117**.\n",
    "    - While these features had lower importance, they still contribute meaningfully when combined with other variables.\n",
    "\n",
    "### Conclusion\n",
    "- The most critical predictors for heart disease were **heart rate**, **chest pain type**, and **ECG results**. Other features like blood pressure and age also played a role, though with less impact.\n"
   ]
  },
  {
   "cell_type": "markdown",
   "id": "f94cbbc7-4fb7-4679-8eb9-2363bb6375ab",
   "metadata": {},
   "source": [
    "# Summary\n",
    "\n",
    "We divided the dataset into two groups: training and testing, to properly evaluate the model's performance.\n",
    "\n",
    "We tested three models: **Logistic Regression**, **Random Forest**, and **XGBoost**.\n",
    "\n",
    "- **Random Forest** performed best on the training set but exhibited overfitting, with worse results on the test set. \n",
    "- **XGBoost** outperformed Logistic Regression both in training (F1 Score: 0.92 vs 0.89) and test sets, achieving 100% accuracy on the test set predictions.\n",
    "  \n",
    "To further refine the model, we conducted **Cross-Validation (CV = 5)** on the training set, adjusting hyperparameters. The best hyperparameters found for XGBoost were:\n",
    "\n",
    "  - Best hyperparameters for XGBoost:\n",
    "    - `colsample_bytree`: **0.3**\n",
    "    - `learning_rate`: **0.1**\n",
    "    - `max_depth`: **3**\n",
    "    - `n_estimators`: **20**\n",
    "    - `subsample`: **0.8**\n",
    "   \n",
    "Given the small dataset size, we recommend re-evaluating the model after acquiring more data to ensure robust performance.\n",
    "\n",
    "Next, we will proceed with integrating the XGBoost model into the backend for deployment."
   ]
  }
 ],
 "metadata": {
  "kernelspec": {
   "display_name": "Python 3 (ipykernel)",
   "language": "python",
   "name": "python3"
  },
  "language_info": {
   "codemirror_mode": {
    "name": "ipython",
    "version": 3
   },
   "file_extension": ".py",
   "mimetype": "text/x-python",
   "name": "python",
   "nbconvert_exporter": "python",
   "pygments_lexer": "ipython3",
   "version": "3.9.19"
  }
 },
 "nbformat": 4,
 "nbformat_minor": 5
}
